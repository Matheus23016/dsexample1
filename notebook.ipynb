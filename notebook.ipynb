{
 "metadata": {
  "language_info": {
   "codemirror_mode": {
    "name": "ipython",
    "version": 3
   },
   "file_extension": ".py",
   "mimetype": "text/x-python",
   "name": "python",
   "nbconvert_exporter": "python",
   "pygments_lexer": "ipython3",
   "version": 3
  },
  "orig_nbformat": 2,
  "kernelspec": {
   "name": "python_defaultSpec_1597174567370",
   "display_name": "Python 3.7.4 64-bit ('venv')"
  }
 },
 "nbformat": 4,
 "nbformat_minor": 2,
 "cells": [
  {
   "cell_type": "code",
   "execution_count": 1,
   "metadata": {},
   "outputs": [],
   "source": [
    "ARQUIVO_ENTRADA=\"dados/dados_teste.txt\""
   ]
  },
  {
   "cell_type": "code",
   "execution_count": 2,
   "metadata": {},
   "outputs": [],
   "source": [
    "from carregador_dados import le_arquivo \n",
    "import numpy as np\n",
    "gerador_arquivo = le_arquivo(ARQUIVO_ENTRADA, pula_header=True) \n",
    "dados = np.array(list(gerador_arquivo))"
   ]
  },
  {
   "cell_type": "code",
   "execution_count": 3,
   "metadata": {},
   "outputs": [
    {
     "output_type": "execute_result",
     "data": {
      "text/plain": "array([[datetime.date(2020, 1, 2), 'AALR3', 18.68],\n       [datetime.date(2020, 1, 2), 'AAPL34', 120.73],\n       [datetime.date(2020, 1, 2), 'ABCB4', 20.05],\n       [datetime.date(2020, 1, 2), 'ABEV3', 19.12],\n       [datetime.date(2020, 1, 2), 'ADHM3', 2.44],\n       [datetime.date(2020, 1, 2), 'AFLT3', 11.15],\n       [datetime.date(2020, 1, 2), 'AGRO3', 19.21],\n       [datetime.date(2020, 1, 2), 'ALPA3', 27.17],\n       [datetime.date(2020, 1, 2), 'ALPA4', 32.74],\n       [datetime.date(2020, 1, 2), 'ALSO3', 50.13]], dtype=object)"
     },
     "metadata": {},
     "execution_count": 3
    }
   ],
   "source": [
    "dados"
   ]
  },
  {
   "cell_type": "code",
   "execution_count": 4,
   "metadata": {},
   "outputs": [
    {
     "output_type": "execute_result",
     "data": {
      "text/plain": "array([['AALR3', 18.68],\n       ['AAPL34', 120.73],\n       ['ABCB4', 20.05],\n       ['ABEV3', 19.12],\n       ['ADHM3', 2.44],\n       ['AFLT3', 11.15],\n       ['AGRO3', 19.21],\n       ['ALPA3', 27.17],\n       ['ALPA4', 32.74],\n       ['ALSO3', 50.13]], dtype=object)"
     },
     "metadata": {},
     "execution_count": 4
    }
   ],
   "source": [
    "dados[:, 1:3]"
   ]
  },
  {
   "cell_type": "code",
   "execution_count": null,
   "metadata": {},
   "outputs": [],
   "source": []
  }
 ]
}